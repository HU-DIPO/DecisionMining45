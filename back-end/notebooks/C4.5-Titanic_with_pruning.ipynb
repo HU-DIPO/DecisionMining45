{
 "cells": [
  {
   "cell_type": "markdown",
   "metadata": {},
   "source": [
    "# Pruning of the C4.5 algoritme with the Titanic dataset\n",
    "This notebooks contains a C4.5 decision tree fitted on the Titanic dataset, currently only using the categorical features.\n",
    "\n",
    "Additional packages necessary to run this notebook:\n",
    " - Pandas"
   ]
  },
  {
   "cell_type": "code",
   "execution_count": 1,
   "metadata": {},
   "outputs": [],
   "source": [
    "import pandas as pd\n",
    "import numpy as np\n",
    "from sklearn.model_selection import train_test_split\n",
    "\n",
    "from decision_mining.core import c45\n",
    "from decision_mining.core.dmn import rule_c45, rule, dmn_generation as dmn"
   ]
  },
  {
   "cell_type": "markdown",
   "metadata": {},
   "source": [
    "## Loading data\n",
    "Titanic dataset. We're only using the columns \"Pclass\" and \"Sex\" as input, and \"Survived\" as output.\n",
    "- Pclass is passenger class. This column contains the classes 1, 2 and 3.\n",
    "- Sex is the gender listed for the passenger. This column contains the classes \"male\" and \"female\".\n",
    "- Survived is if the passenger survived the disaster or not. It contains the classes 1 (Survived) and 0 (did not survive)."
   ]
  },
  {
   "cell_type": "code",
   "execution_count": 2,
   "metadata": {},
   "outputs": [],
   "source": [
    "data = pd.read_csv(r\"https://web.stanford.edu/class/archive/cs/cs109/cs109.1166/stuff/titanic.csv\", usecols=[\"Sex\", \"Pclass\", \"Survived\", \"Age\"])\n",
    "data = data[[\"Pclass\", \"Sex\", \"Age\", \"Survived\"]]\n",
    "X = data.drop(\"Survived\", axis=1).to_numpy()\n",
    "y = data[\"Survived\"].to_numpy()\n",
    "\n",
    "# Make column sex binary \n",
    "X[:,1] = X[:,1] == \"female\"\n",
    "X = X.astype(int)"
   ]
  },
  {
   "cell_type": "code",
   "execution_count": 3,
   "metadata": {},
   "outputs": [],
   "source": [
    "# Create train/test/val dataset based on the folowing ratio's\n",
    "train_ratio = 0.75\n",
    "validation_ratio = 0.15\n",
    "test_ratio = 0.10\n",
    "\n",
    "X_train, X_test, y_train, y_test = train_test_split(X, y, test_size=1 - train_ratio, random_state=42)\n",
    "\n",
    "X_val, X_test, y_val, y_test = train_test_split(X_test, y_test, test_size=test_ratio/(test_ratio + validation_ratio), random_state=42) \n"
   ]
  },
  {
   "cell_type": "code",
   "execution_count": 4,
   "metadata": {},
   "outputs": [
    {
     "data": {
      "text/plain": [
       "0.7078651685393258"
      ]
     },
     "execution_count": 4,
     "metadata": {},
     "output_type": "execute_result"
    }
   ],
   "source": [
    "# Build Decision Tree\n",
    "predictor = c45.C45Classifier(np.array([2]),min_objs=1)\n",
    "predictor.fit(X_train, y_train)\n",
    "predictor.score(X_test,y_test)"
   ]
  },
  {
   "cell_type": "markdown",
   "metadata": {},
   "source": [
    "Create DMN before pruning"
   ]
  },
  {
   "cell_type": "code",
   "execution_count": 5,
   "metadata": {},
   "outputs": [],
   "source": [
    "cols = [[\"Pclass\", \"Sex\", \"Age\", \"Survived\"]]\n",
    "drd_objects = dmn.create_node_objects(cols)\n",
    "decision_nodes = dmn.create_dependencies(cols, drd_objects)\n",
    "rules = rule_c45.make_c45_rules([0, 1, 2], c45.traverse_c45(predictor))\n",
    "\n",
    "decision_nodes[0].rules = rules\n",
    "tree = dmn.create_xml(drd_objects, decision_nodes)\n",
    "tree.write(\"../before_pruning.dmn\")"
   ]
  },
  {
   "cell_type": "markdown",
   "metadata": {},
   "source": [
    "<img src=\"./images/C4.5-Titanic_with_pruning/DesicionTable_before_pruning.png\"/>"
   ]
  },
  {
   "cell_type": "markdown",
   "metadata": {},
   "source": [
    "## Testing Pruning"
   ]
  },
  {
   "cell_type": "code",
   "execution_count": 6,
   "metadata": {},
   "outputs": [
    {
     "data": {
      "text/plain": [
       "(0.7894736842105263, 110)"
      ]
     },
     "execution_count": 6,
     "metadata": {},
     "output_type": "execute_result"
    }
   ],
   "source": [
    "original_score = predictor.score(X_val,y_val)\n",
    "path = list(c45.traverse_c45(predictor))\n",
    "original_length = len(path)\n",
    "original_score, original_length"
   ]
  },
  {
   "cell_type": "code",
   "execution_count": 7,
   "metadata": {},
   "outputs": [
    {
     "name": "stdout",
     "output_type": "stream",
     "text": [
      "305 amount of branches are pruned!\n"
     ]
    }
   ],
   "source": [
    "predictor.reduced_error_pruning(X_val, y_val, verbose=True)"
   ]
  },
  {
   "cell_type": "code",
   "execution_count": 8,
   "metadata": {},
   "outputs": [
    {
     "data": {
      "text/plain": [
       "(0.8646616541353384, 43)"
      ]
     },
     "execution_count": 8,
     "metadata": {},
     "output_type": "execute_result"
    }
   ],
   "source": [
    "score = predictor.score(X_val,y_val)\n",
    "path = list(c45.traverse_c45(predictor))\n",
    "length = len(path)\n",
    "score, length"
   ]
  },
  {
   "cell_type": "code",
   "execution_count": 9,
   "metadata": {},
   "outputs": [],
   "source": [
    "cols = [[\"Pclass\", \"Sex\", \"Age\", \"Survived\"]]\n",
    "drd_objects = dmn.create_node_objects(cols)\n",
    "decision_nodes = dmn.create_dependencies(cols, drd_objects)\n",
    "rules = rule_c45.make_c45_rules([0, 1, 2], c45.traverse_c45(predictor))\n",
    "\n",
    "decision_nodes[0].rules = rules\n",
    "tree = dmn.create_xml(drd_objects, decision_nodes)\n",
    "tree.write(\"../after_pruning.dmn\")"
   ]
  },
  {
   "cell_type": "markdown",
   "metadata": {},
   "source": [
    "<img src=\"./images/C4.5-Titanic_with_pruning/DesicionTable_after_pruning.png\"/>"
   ]
  },
  {
   "cell_type": "code",
   "execution_count": 11,
   "metadata": {},
   "outputs": [
    {
     "name": "stdout",
     "output_type": "stream",
     "text": [
      "0.8646616541353384\n",
      "0.8721804511278195\n",
      "0.7640449438202247\n"
     ]
    }
   ],
   "source": [
    "print(predictor.score(X_val,y_val))\n",
    "print(predictor.score(X_train,y_train))\n",
    "print(predictor.score(X_test,y_test))\n"
   ]
  }
 ],
 "metadata": {
  "interpreter": {
   "hash": "6d471539d7971923c4af8adf93a731e28fca6f4fa6d5fc381f8b1e637eb81347"
  },
  "kernelspec": {
   "display_name": "Python 3.8.7 64-bit ('venv': venv)",
   "name": "python3"
  },
  "language_info": {
   "codemirror_mode": {
    "name": "ipython",
    "version": 3
   },
   "file_extension": ".py",
   "mimetype": "text/x-python",
   "name": "python",
   "nbconvert_exporter": "python",
   "pygments_lexer": "ipython3",
   "version": "3.8.7"
  }
 },
 "nbformat": 4,
 "nbformat_minor": 5
}
