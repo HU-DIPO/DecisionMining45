{
 "cells": [
  {
   "cell_type": "code",
   "execution_count": 1,
   "id": "educational-height",
   "metadata": {},
   "outputs": [],
   "source": [
    "import numpy as np\n",
    "from typing import Tuple, Union\n",
    "import cProfile\n",
    "\n",
    "from decision_mining.core.c45 import gain_ratio, find_threshold"
   ]
  },
  {
   "cell_type": "markdown",
   "id": "hollow-storage",
   "metadata": {},
   "source": [
    "# Profiling on commit [30729e7](https://github.com/MartijnKnegt/INNO21-Backend/commit/30729e74769d5d6da808c3da0c0bf302d42d3dcc)"
   ]
  },
  {
   "cell_type": "code",
   "execution_count": 2,
   "id": "piano-mainland",
   "metadata": {},
   "outputs": [],
   "source": [
    "rng = np.random.default_rng()"
   ]
  },
  {
   "cell_type": "markdown",
   "id": "coordinated-dividend",
   "metadata": {},
   "source": [
    "Profile with unordered array"
   ]
  },
  {
   "cell_type": "code",
   "execution_count": 3,
   "id": "practical-timer",
   "metadata": {},
   "outputs": [
    {
     "name": "stdout",
     "output_type": "stream",
     "text": [
      "         2159795 function calls (2069804 primitive calls) in 21.899 seconds\n",
      "\n",
      "   Ordered by: standard name\n",
      "\n",
      "   ncalls  tottime  percall  cumtime  percall filename:lineno(function)\n",
      "    29997    0.060    0.000    0.421    0.000 <__array_function__ internals>:2(concatenate)\n",
      "    39996    0.075    0.000    0.529    0.000 <__array_function__ internals>:2(count_nonzero)\n",
      "    29997    0.056    0.000    0.748    0.000 <__array_function__ internals>:2(diff)\n",
      "    29997    0.063    0.000    0.513    0.000 <__array_function__ internals>:2(nonzero)\n",
      "        1    0.000    0.000    0.001    0.001 <__array_function__ internals>:2(sort)\n",
      "    59994    0.120    0.000    1.407    0.000 <__array_function__ internals>:2(sum)\n",
      "    49995    0.105    0.000   14.416    0.000 <__array_function__ internals>:2(unique)\n",
      "   129988    0.104    0.000    0.222    0.000 _asarray.py:110(asanyarray)\n",
      "    29997    0.026    0.000    0.053    0.000 _asarray.py:23(asarray)\n",
      "    29997    0.871    0.000    2.331    0.000 _distn_infrastructure.py:2699(entropy)\n",
      "     9999    0.013    0.000    0.114    0.000 _methods.py:59(_all)\n",
      "    49995    0.052    0.000    0.069    0.000 arraysetops.py:125(_unpack_tuple)\n",
      "    49995    0.021    0.000    0.021    0.000 arraysetops.py:133(_unique_dispatcher)\n",
      "    49995    0.254    0.000   14.149    0.000 arraysetops.py:138(unique)\n",
      "    49995    2.495    0.000   13.724    0.000 arraysetops.py:310(_unique1d)\n",
      "     9999    0.736    0.000    3.758    0.000 c45.py:17(split_info)\n",
      "     9999    3.006    0.000   17.260    0.002 c45.py:40(gain)\n",
      "     9999    0.329    0.000   21.490    0.002 c45.py:65(gain_ratio)\n",
      "        1    0.408    0.408   21.899   21.899 c45.py:88(find_threshold)\n",
      "        1    0.000    0.000    0.000    0.000 cProfile.py:133(__exit__)\n",
      "    29997    0.013    0.000    0.013    0.000 fromnumeric.py:1823(_nonzero_dispatcher)\n",
      "    29997    0.044    0.000    0.388    0.000 fromnumeric.py:1827(nonzero)\n",
      "    59994    0.026    0.000    0.026    0.000 fromnumeric.py:2106(_sum_dispatcher)\n",
      "    59994    0.210    0.000    1.157    0.000 fromnumeric.py:2111(sum)\n",
      "    29997    0.054    0.000    0.344    0.000 fromnumeric.py:52(_wrapfunc)\n",
      "    59994    0.249    0.000    0.911    0.000 fromnumeric.py:70(_wrapreduction)\n",
      "    59994    0.091    0.000    0.091    0.000 fromnumeric.py:71(<dictcomp>)\n",
      "        1    0.000    0.000    0.000    0.000 fromnumeric.py:840(_sort_dispatcher)\n",
      "        1    0.000    0.000    0.001    0.001 fromnumeric.py:844(sort)\n",
      "    29997    0.015    0.000    0.015    0.000 function_base.py:1149(_diff_dispatcher)\n",
      "    29997    0.506    0.000    0.618    0.000 function_base.py:1153(diff)\n",
      "    29997    0.013    0.000    0.013    0.000 multiarray.py:143(concatenate)\n",
      "    39996    0.016    0.000    0.016    0.000 numeric.py:420(_count_nonzero_dispatcher)\n",
      "    39996    0.050    0.000    0.382    0.000 numeric.py:424(count_nonzero)\n",
      "    29997    0.023    0.000    0.023    0.000 {built-in method builtins.getattr}\n",
      "    59994    0.037    0.000    0.037    0.000 {built-in method builtins.isinstance}\n",
      "    79992    0.027    0.000    0.027    0.000 {built-in method builtins.len}\n",
      "   159985    0.145    0.000    0.145    0.000 {built-in method numpy.array}\n",
      "    39996    0.332    0.000    0.332    0.000 {built-in method numpy.core._multiarray_umath.count_nonzero}\n",
      "239977/149986    0.755    0.000   15.990    0.000 {built-in method numpy.core._multiarray_umath.implement_array_function}\n",
      "    29997    0.029    0.000    0.029    0.000 {built-in method numpy.core._multiarray_umath.normalize_axis_index}\n",
      "    49995    0.214    0.000    0.214    0.000 {built-in method numpy.empty}\n",
      "     9999    0.029    0.000    0.143    0.000 {method 'all' of 'numpy.ndarray' objects}\n",
      "    29997    0.014    0.000    0.014    0.000 {method 'append' of 'list' objects}\n",
      "        1    0.000    0.000    0.000    0.000 {method 'copy' of 'numpy.ndarray' objects}\n",
      "        1    0.000    0.000    0.000    0.000 {method 'disable' of '_lsprof.Profiler' objects}\n",
      "    49995    0.270    0.000    0.270    0.000 {method 'flatten' of 'numpy.ndarray' objects}\n",
      "    59994    0.026    0.000    0.026    0.000 {method 'items' of 'dict' objects}\n",
      "    29997    0.266    0.000    0.266    0.000 {method 'nonzero' of 'numpy.ndarray' objects}\n",
      "    69993    0.646    0.000    0.646    0.000 {method 'reduce' of 'numpy.ufunc' objects}\n",
      "    49996    9.004    0.000    9.004    0.000 {method 'sort' of 'numpy.ndarray' objects}\n",
      "\n",
      "\n"
     ]
    }
   ],
   "source": [
    "X = np.arange(10000)\n",
    "rng.shuffle(X)\n",
    "y = (X > 7500).astype(int) + (X > 5000).astype(int)\n",
    "with cProfile.Profile() as pr:\n",
    "    find_threshold(X, y)\n",
    "\n",
    "pr.print_stats()\n",
    "# 49995"
   ]
  },
  {
   "cell_type": "markdown",
   "id": "broad-involvement",
   "metadata": {},
   "source": [
    "Profile with ordered array"
   ]
  },
  {
   "cell_type": "code",
   "execution_count": 4,
   "id": "macro-method",
   "metadata": {},
   "outputs": [
    {
     "name": "stdout",
     "output_type": "stream",
     "text": [
      "         2159795 function calls (2069804 primitive calls) in 16.595 seconds\n",
      "\n",
      "   Ordered by: standard name\n",
      "\n",
      "   ncalls  tottime  percall  cumtime  percall filename:lineno(function)\n",
      "    29997    0.059    0.000    0.397    0.000 <__array_function__ internals>:2(concatenate)\n",
      "    39996    0.074    0.000    0.528    0.000 <__array_function__ internals>:2(count_nonzero)\n",
      "    29997    0.055    0.000    0.728    0.000 <__array_function__ internals>:2(diff)\n",
      "    29997    0.063    0.000    0.497    0.000 <__array_function__ internals>:2(nonzero)\n",
      "        1    0.000    0.000    0.000    0.000 <__array_function__ internals>:2(sort)\n",
      "    59994    0.118    0.000    1.346    0.000 <__array_function__ internals>:2(sum)\n",
      "    49995    0.101    0.000   10.968    0.000 <__array_function__ internals>:2(unique)\n",
      "   129988    0.101    0.000    0.213    0.000 _asarray.py:110(asanyarray)\n",
      "    29997    0.025    0.000    0.051    0.000 _asarray.py:23(asarray)\n",
      "    29997    0.819    0.000    2.217    0.000 _distn_infrastructure.py:2699(entropy)\n",
      "     9999    0.012    0.000    0.119    0.000 _methods.py:59(_all)\n",
      "    49995    0.050    0.000    0.067    0.000 arraysetops.py:125(_unpack_tuple)\n",
      "    49995    0.020    0.000    0.020    0.000 arraysetops.py:133(_unique_dispatcher)\n",
      "    49995    0.242    0.000   10.724    0.000 arraysetops.py:138(unique)\n",
      "    49995    2.423    0.000   10.317    0.000 arraysetops.py:310(_unique1d)\n",
      "     9999    0.731    0.000    3.153    0.000 c45.py:17(split_info)\n",
      "     9999    1.274    0.000   12.565    0.001 c45.py:40(gain)\n",
      "     9999    0.325    0.000   16.190    0.002 c45.py:65(gain_ratio)\n",
      "        1    0.405    0.405   16.595   16.595 c45.py:88(find_threshold)\n",
      "        1    0.000    0.000    0.000    0.000 cProfile.py:133(__exit__)\n",
      "    29997    0.013    0.000    0.013    0.000 fromnumeric.py:1823(_nonzero_dispatcher)\n",
      "    29997    0.043    0.000    0.376    0.000 fromnumeric.py:1827(nonzero)\n",
      "    59994    0.025    0.000    0.025    0.000 fromnumeric.py:2106(_sum_dispatcher)\n",
      "    59994    0.200    0.000    1.102    0.000 fromnumeric.py:2111(sum)\n",
      "    29997    0.052    0.000    0.333    0.000 fromnumeric.py:52(_wrapfunc)\n",
      "    59994    0.245    0.000    0.868    0.000 fromnumeric.py:70(_wrapreduction)\n",
      "    59994    0.088    0.000    0.088    0.000 fromnumeric.py:71(<dictcomp>)\n",
      "        1    0.000    0.000    0.000    0.000 fromnumeric.py:840(_sort_dispatcher)\n",
      "        1    0.000    0.000    0.000    0.000 fromnumeric.py:844(sort)\n",
      "    29997    0.015    0.000    0.015    0.000 function_base.py:1149(_diff_dispatcher)\n",
      "    29997    0.491    0.000    0.597    0.000 function_base.py:1153(diff)\n",
      "    29997    0.012    0.000    0.012    0.000 multiarray.py:143(concatenate)\n",
      "    39996    0.016    0.000    0.016    0.000 numeric.py:420(_count_nonzero_dispatcher)\n",
      "    39996    0.049    0.000    0.382    0.000 numeric.py:424(count_nonzero)\n",
      "    29997    0.021    0.000    0.021    0.000 {built-in method builtins.getattr}\n",
      "    59994    0.035    0.000    0.035    0.000 {built-in method builtins.isinstance}\n",
      "    79992    0.026    0.000    0.026    0.000 {built-in method builtins.len}\n",
      "   159985    0.138    0.000    0.138    0.000 {built-in method numpy.array}\n",
      "    39996    0.333    0.000    0.333    0.000 {built-in method numpy.core._multiarray_umath.count_nonzero}\n",
      "239977/149986    0.713    0.000   12.489    0.000 {built-in method numpy.core._multiarray_umath.implement_array_function}\n",
      "    29997    0.027    0.000    0.027    0.000 {built-in method numpy.core._multiarray_umath.normalize_axis_index}\n",
      "    49995    0.195    0.000    0.195    0.000 {built-in method numpy.empty}\n",
      "     9999    0.028    0.000    0.146    0.000 {method 'all' of 'numpy.ndarray' objects}\n",
      "    29997    0.014    0.000    0.014    0.000 {method 'append' of 'list' objects}\n",
      "        1    0.000    0.000    0.000    0.000 {method 'copy' of 'numpy.ndarray' objects}\n",
      "        1    0.000    0.000    0.000    0.000 {method 'disable' of '_lsprof.Profiler' objects}\n",
      "    49995    0.266    0.000    0.266    0.000 {method 'flatten' of 'numpy.ndarray' objects}\n",
      "    59994    0.025    0.000    0.025    0.000 {method 'items' of 'dict' objects}\n",
      "    29997    0.260    0.000    0.260    0.000 {method 'nonzero' of 'numpy.ndarray' objects}\n",
      "    69993    0.616    0.000    0.616    0.000 {method 'reduce' of 'numpy.ufunc' objects}\n",
      "    49996    5.753    0.000    5.753    0.000 {method 'sort' of 'numpy.ndarray' objects}\n",
      "\n",
      "\n"
     ]
    }
   ],
   "source": [
    "X = np.arange(10000)\n",
    "y = (X > 7500).astype(int) + (X > 5000).astype(int)\n",
    "with cProfile.Profile() as pr:\n",
    "    find_threshold(X, y)\n",
    "\n",
    "pr.print_stats()"
   ]
  },
  {
   "cell_type": "markdown",
   "id": "sensitive-responsibility",
   "metadata": {},
   "source": [
    "## Conclusion\n",
    "Pre-sorting the attribute array can increase performance by 3-5 seconds. Largest time sink is `np.unique`, can be partially remedied by combining `split_info`, `gain` and `gain_ratio` into one function."
   ]
  },
  {
   "cell_type": "markdown",
   "id": "stable-attraction",
   "metadata": {},
   "source": [
    "## Swapping `np.unique(attribute).size == 1` with `(attribute == attribute[0]).all()`"
   ]
  },
  {
   "cell_type": "code",
   "execution_count": 5,
   "id": "automatic-portuguese",
   "metadata": {},
   "outputs": [],
   "source": [
    "attribute = np.arange(10000)\n",
    "rng.shuffle(attribute)"
   ]
  },
  {
   "cell_type": "code",
   "execution_count": 6,
   "id": "swiss-humor",
   "metadata": {},
   "outputs": [
    {
     "name": "stdout",
     "output_type": "stream",
     "text": [
      "22.2 µs ± 1.28 µs per loop (mean ± std. dev. of 7 runs, 10000 loops each)\n"
     ]
    }
   ],
   "source": [
    "%timeit (attribute == attribute[0]).all()"
   ]
  },
  {
   "cell_type": "code",
   "execution_count": 7,
   "id": "proof-choice",
   "metadata": {},
   "outputs": [
    {
     "name": "stdout",
     "output_type": "stream",
     "text": [
      "1.05 ms ± 26.2 µs per loop (mean ± std. dev. of 7 runs, 1000 loops each)\n"
     ]
    }
   ],
   "source": [
    "%timeit np.unique(attribute).size == 1"
   ]
  },
  {
   "cell_type": "code",
   "execution_count": 8,
   "id": "received-freeze",
   "metadata": {},
   "outputs": [],
   "source": [
    "attribute = np.zeros(10000)"
   ]
  },
  {
   "cell_type": "code",
   "execution_count": 9,
   "id": "trying-bryan",
   "metadata": {},
   "outputs": [
    {
     "name": "stdout",
     "output_type": "stream",
     "text": [
      "16.8 µs ± 1.81 µs per loop (mean ± std. dev. of 7 runs, 10000 loops each)\n"
     ]
    }
   ],
   "source": [
    "%timeit (attribute == attribute[0]).all()"
   ]
  },
  {
   "cell_type": "code",
   "execution_count": 10,
   "id": "premier-force",
   "metadata": {},
   "outputs": [
    {
     "name": "stdout",
     "output_type": "stream",
     "text": [
      "327 µs ± 15.7 µs per loop (mean ± std. dev. of 7 runs, 1000 loops each)\n"
     ]
    }
   ],
   "source": [
    "%timeit np.unique(attribute).size == 1"
   ]
  },
  {
   "cell_type": "markdown",
   "id": "alone-population",
   "metadata": {},
   "source": [
    "### Conclusion\n",
    "`np.unique(attribute).size == 1` is significantly faster."
   ]
  }
 ],
 "metadata": {
  "interpreter": {
   "hash": "338114681e1aade9cc8370af56c751ea3aed12b920c400a7d6af5e6e22070cf4"
  },
  "kernelspec": {
   "display_name": "Python 3.8.7  ('.env': venv)",
   "name": "python3"
  },
  "language_info": {
   "codemirror_mode": {
    "name": "ipython",
    "version": 3
   },
   "file_extension": ".py",
   "mimetype": "text/x-python",
   "name": "python",
   "nbconvert_exporter": "python",
   "pygments_lexer": "ipython3",
   "version": "3.8.7"
  }
 },
 "nbformat": 4,
 "nbformat_minor": 5
}
