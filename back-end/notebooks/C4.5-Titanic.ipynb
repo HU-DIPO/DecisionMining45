{
 "cells": [
  {
   "cell_type": "markdown",
   "id": "national-inspection",
   "metadata": {},
   "source": [
    "# Showcasing C4.5 with the Titanic dataset\n",
    "This notebooks contains a C4.5 decision tree fitted on the Titanic dataset, currently only using the categorical features.\n",
    "\n",
    "Additional packages necessary to run this notebook:\n",
    " - Pandas"
   ]
  },
  {
   "cell_type": "code",
   "execution_count": 1,
   "id": "impaired-doctor",
   "metadata": {},
   "outputs": [],
   "source": [
    "import pandas as pd\n",
    "import numpy as np\n",
    "from sklearn.model_selection import train_test_split\n",
    "from sklearn import tree\n",
    "\n",
    "from decision_mining.core import c45"
   ]
  },
  {
   "cell_type": "markdown",
   "id": "political-tower",
   "metadata": {},
   "source": [
    "# Loading data\n",
    "Titanic dataset. We're only using the columns \"Pclass\" and \"Sex\" as input, and \"Survived\" as output.\n",
    "- Pclass is passenger class. This column contains the classes 1, 2 and 3.\n",
    "- Sex is the gender listed for the passenger. This column contains the classes \"male\" and \"female\".\n",
    "- Survived is if the passenger survived the disaster or not. It contains the classes 1 (Survived) and 0 (did not survive)."
   ]
  },
  {
   "cell_type": "code",
   "execution_count": 2,
   "id": "sought-message",
   "metadata": {},
   "outputs": [],
   "source": [
    "data = pd.read_csv(r\"https://web.stanford.edu/class/archive/cs/cs109/cs109.1166/stuff/titanic.csv\", usecols=[\"Sex\", \"Pclass\", \"Survived\", \"Age\"])\n",
    "data = data[[\"Pclass\", \"Sex\", \"Age\", \"Survived\"]]"
   ]
  },
  {
   "cell_type": "code",
   "execution_count": 3,
   "id": "aware-watershed",
   "metadata": {},
   "outputs": [
    {
     "data": {
      "text/html": [
       "<div>\n",
       "<style scoped>\n",
       "    .dataframe tbody tr th:only-of-type {\n",
       "        vertical-align: middle;\n",
       "    }\n",
       "\n",
       "    .dataframe tbody tr th {\n",
       "        vertical-align: top;\n",
       "    }\n",
       "\n",
       "    .dataframe thead th {\n",
       "        text-align: right;\n",
       "    }\n",
       "</style>\n",
       "<table border=\"1\" class=\"dataframe\">\n",
       "  <thead>\n",
       "    <tr style=\"text-align: right;\">\n",
       "      <th></th>\n",
       "      <th>Pclass</th>\n",
       "      <th>Sex</th>\n",
       "      <th>Age</th>\n",
       "      <th>Survived</th>\n",
       "    </tr>\n",
       "  </thead>\n",
       "  <tbody>\n",
       "    <tr>\n",
       "      <th>0</th>\n",
       "      <td>3</td>\n",
       "      <td>male</td>\n",
       "      <td>22.0</td>\n",
       "      <td>0</td>\n",
       "    </tr>\n",
       "    <tr>\n",
       "      <th>1</th>\n",
       "      <td>1</td>\n",
       "      <td>female</td>\n",
       "      <td>38.0</td>\n",
       "      <td>1</td>\n",
       "    </tr>\n",
       "    <tr>\n",
       "      <th>2</th>\n",
       "      <td>3</td>\n",
       "      <td>female</td>\n",
       "      <td>26.0</td>\n",
       "      <td>1</td>\n",
       "    </tr>\n",
       "    <tr>\n",
       "      <th>3</th>\n",
       "      <td>1</td>\n",
       "      <td>female</td>\n",
       "      <td>35.0</td>\n",
       "      <td>1</td>\n",
       "    </tr>\n",
       "    <tr>\n",
       "      <th>4</th>\n",
       "      <td>3</td>\n",
       "      <td>male</td>\n",
       "      <td>35.0</td>\n",
       "      <td>0</td>\n",
       "    </tr>\n",
       "  </tbody>\n",
       "</table>\n",
       "</div>"
      ],
      "text/plain": [
       "   Pclass     Sex   Age  Survived\n",
       "0       3    male  22.0         0\n",
       "1       1  female  38.0         1\n",
       "2       3  female  26.0         1\n",
       "3       1  female  35.0         1\n",
       "4       3    male  35.0         0"
      ]
     },
     "execution_count": 3,
     "metadata": {},
     "output_type": "execute_result"
    }
   ],
   "source": [
    "data.head()"
   ]
  },
  {
   "cell_type": "code",
   "execution_count": 4,
   "id": "conscious-scratch",
   "metadata": {},
   "outputs": [
    {
     "data": {
      "text/html": [
       "<div>\n",
       "<style scoped>\n",
       "    .dataframe tbody tr th:only-of-type {\n",
       "        vertical-align: middle;\n",
       "    }\n",
       "\n",
       "    .dataframe tbody tr th {\n",
       "        vertical-align: top;\n",
       "    }\n",
       "\n",
       "    .dataframe thead th {\n",
       "        text-align: right;\n",
       "    }\n",
       "</style>\n",
       "<table border=\"1\" class=\"dataframe\">\n",
       "  <thead>\n",
       "    <tr style=\"text-align: right;\">\n",
       "      <th></th>\n",
       "      <th>Pclass</th>\n",
       "      <th>Sex</th>\n",
       "      <th>Age</th>\n",
       "      <th>Survived</th>\n",
       "    </tr>\n",
       "  </thead>\n",
       "  <tbody>\n",
       "    <tr>\n",
       "      <th>count</th>\n",
       "      <td>887.000000</td>\n",
       "      <td>887</td>\n",
       "      <td>887.000000</td>\n",
       "      <td>887.000000</td>\n",
       "    </tr>\n",
       "    <tr>\n",
       "      <th>unique</th>\n",
       "      <td>NaN</td>\n",
       "      <td>2</td>\n",
       "      <td>NaN</td>\n",
       "      <td>NaN</td>\n",
       "    </tr>\n",
       "    <tr>\n",
       "      <th>top</th>\n",
       "      <td>NaN</td>\n",
       "      <td>male</td>\n",
       "      <td>NaN</td>\n",
       "      <td>NaN</td>\n",
       "    </tr>\n",
       "    <tr>\n",
       "      <th>freq</th>\n",
       "      <td>NaN</td>\n",
       "      <td>573</td>\n",
       "      <td>NaN</td>\n",
       "      <td>NaN</td>\n",
       "    </tr>\n",
       "    <tr>\n",
       "      <th>mean</th>\n",
       "      <td>2.305524</td>\n",
       "      <td>NaN</td>\n",
       "      <td>29.471443</td>\n",
       "      <td>0.385569</td>\n",
       "    </tr>\n",
       "    <tr>\n",
       "      <th>std</th>\n",
       "      <td>0.836662</td>\n",
       "      <td>NaN</td>\n",
       "      <td>14.121908</td>\n",
       "      <td>0.487004</td>\n",
       "    </tr>\n",
       "    <tr>\n",
       "      <th>min</th>\n",
       "      <td>1.000000</td>\n",
       "      <td>NaN</td>\n",
       "      <td>0.420000</td>\n",
       "      <td>0.000000</td>\n",
       "    </tr>\n",
       "    <tr>\n",
       "      <th>25%</th>\n",
       "      <td>2.000000</td>\n",
       "      <td>NaN</td>\n",
       "      <td>20.250000</td>\n",
       "      <td>0.000000</td>\n",
       "    </tr>\n",
       "    <tr>\n",
       "      <th>50%</th>\n",
       "      <td>3.000000</td>\n",
       "      <td>NaN</td>\n",
       "      <td>28.000000</td>\n",
       "      <td>0.000000</td>\n",
       "    </tr>\n",
       "    <tr>\n",
       "      <th>75%</th>\n",
       "      <td>3.000000</td>\n",
       "      <td>NaN</td>\n",
       "      <td>38.000000</td>\n",
       "      <td>1.000000</td>\n",
       "    </tr>\n",
       "    <tr>\n",
       "      <th>max</th>\n",
       "      <td>3.000000</td>\n",
       "      <td>NaN</td>\n",
       "      <td>80.000000</td>\n",
       "      <td>1.000000</td>\n",
       "    </tr>\n",
       "  </tbody>\n",
       "</table>\n",
       "</div>"
      ],
      "text/plain": [
       "            Pclass   Sex         Age    Survived\n",
       "count   887.000000   887  887.000000  887.000000\n",
       "unique         NaN     2         NaN         NaN\n",
       "top            NaN  male         NaN         NaN\n",
       "freq           NaN   573         NaN         NaN\n",
       "mean      2.305524   NaN   29.471443    0.385569\n",
       "std       0.836662   NaN   14.121908    0.487004\n",
       "min       1.000000   NaN    0.420000    0.000000\n",
       "25%       2.000000   NaN   20.250000    0.000000\n",
       "50%       3.000000   NaN   28.000000    0.000000\n",
       "75%       3.000000   NaN   38.000000    1.000000\n",
       "max       3.000000   NaN   80.000000    1.000000"
      ]
     },
     "execution_count": 4,
     "metadata": {},
     "output_type": "execute_result"
    }
   ],
   "source": [
    "data.describe(include=\"all\")"
   ]
  },
  {
   "cell_type": "code",
   "execution_count": 5,
   "id": "graduate-africa",
   "metadata": {},
   "outputs": [],
   "source": [
    "X = data.drop(\"Survived\", axis=1).to_numpy()\n",
    "y = data[\"Survived\"].to_numpy()"
   ]
  },
  {
   "cell_type": "code",
   "execution_count": 6,
   "id": "negative-norwegian",
   "metadata": {},
   "outputs": [],
   "source": [
    "X_train, X_test, y_train, y_test = train_test_split(X, y, random_state=42)"
   ]
  },
  {
   "cell_type": "code",
   "execution_count": 7,
   "id": "chief-assembly",
   "metadata": {},
   "outputs": [],
   "source": [
    "X_train[:,1] = X_train[:,1] == \"female\"\n",
    "X_test[:,1] = X_test[:,1] == \"female\""
   ]
  },
  {
   "cell_type": "code",
   "execution_count": 8,
   "id": "ceramic-bermuda",
   "metadata": {},
   "outputs": [],
   "source": [
    "X_train = X_train.astype(int)\n",
    "X_test = X_test.astype(int)"
   ]
  },
  {
   "cell_type": "markdown",
   "id": "premium-liberia",
   "metadata": {},
   "source": [
    "# Comparing Performance\n",
    "We will be comparing the performance of C4.5 with SKlearn's CART.\n",
    "\n",
    "#### C4.5's speed"
   ]
  },
  {
   "cell_type": "code",
   "execution_count": 9,
   "id": "innovative-blood",
   "metadata": {},
   "outputs": [
    {
     "name": "stdout",
     "output_type": "stream",
     "text": [
      "3.2 s ± 87.2 ms per loop (mean ± std. dev. of 7 runs, 1 loop each)\n"
     ]
    }
   ],
   "source": [
    "%%timeit\n",
    "predictor = c45.C45Classifier(np.array([2]))\n",
    "predictor.fit(X_train, y_train)"
   ]
  },
  {
   "cell_type": "markdown",
   "id": "exceptional-payday",
   "metadata": {},
   "source": [
    "#### C4.5's accuracy"
   ]
  },
  {
   "cell_type": "code",
   "execution_count": 10,
   "id": "adopted-franchise",
   "metadata": {},
   "outputs": [
    {
     "data": {
      "text/plain": [
       "0.7567567567567568"
      ]
     },
     "execution_count": 10,
     "metadata": {},
     "output_type": "execute_result"
    }
   ],
   "source": [
    "predictor = c45.C45Classifier(np.array([2]))\n",
    "predictor.fit(X_train, y_train)\n",
    "predictor.score(X_test, y_test)"
   ]
  },
  {
   "cell_type": "markdown",
   "id": "economic-preparation",
   "metadata": {},
   "source": [
    "#### CART's speed"
   ]
  },
  {
   "cell_type": "code",
   "execution_count": 11,
   "id": "sticky-incentive",
   "metadata": {},
   "outputs": [
    {
     "name": "stdout",
     "output_type": "stream",
     "text": [
      "2.17 ms ± 223 µs per loop (mean ± std. dev. of 7 runs, 100 loops each)\n"
     ]
    }
   ],
   "source": [
    "%%timeit\n",
    "clf = tree.DecisionTreeClassifier()\n",
    "clf = clf.fit(X_train, y_train)\n",
    "clf.score(X_test, y_test)"
   ]
  },
  {
   "cell_type": "markdown",
   "id": "supported-latex",
   "metadata": {},
   "source": [
    "#### CART's accuracy"
   ]
  },
  {
   "cell_type": "code",
   "execution_count": 12,
   "id": "fallen-latin",
   "metadata": {},
   "outputs": [
    {
     "data": {
      "text/plain": [
       "0.7477477477477478"
      ]
     },
     "execution_count": 12,
     "metadata": {},
     "output_type": "execute_result"
    }
   ],
   "source": [
    "clf = tree.DecisionTreeClassifier()\n",
    "clf = clf.fit(X_train, y_train)\n",
    "clf.score(X_test, y_test)"
   ]
  },
  {
   "cell_type": "markdown",
   "id": "jewish-trance",
   "metadata": {},
   "source": [
    "### So\n",
    "#### Only categorical\n",
    "SKlearn's CART is about 2.5 times faster than our C4.5 algorithm. 2. milliseconds is, however, still fast enough for use. It is also considerably faster than the C4.5 implementation from our predecessors. That implementation took, on average, 350 milliseconds.\n",
    "\n",
    "Accuracy-wise, CART and C4.5 appear to give the exact same results\n",
    "#### Categorical and continuous\n",
    "SKlearn's CART is about 1500 times faster than our C4.5 algorithm when using both categorical and continuous values. This is fairly slow, but likely still fast enough for this use case.\n",
    "\n",
    "The original implementation of continuous values by Ross Quinlan (the version we implemented), calculates the GainRatio equation `n-1` times per tree node (where `n` is the amount of samples in the subset). The implementation by our predecessors does this only once, instead of for each tree node. This *could* mean that our predecessors' implementation is faster, but likely also less accurate.\n",
    "\n",
    "Accuracy-wise, our C4.5 implementation appears to yield better results.\n",
    "\n",
    "### Who survives?\n",
    "First of all, it appears that women, no matter the passenger class, survive"
   ]
  },
  {
   "cell_type": "code",
   "execution_count": 13,
   "id": "d4ea1089-6c9b-404c-a5bb-d54b74582f0e",
   "metadata": {},
   "outputs": [],
   "source": [
    "from INNO.core.dmn import rule_c45, rule, dmn_generation as dmn"
   ]
  },
  {
   "cell_type": "code",
   "execution_count": 14,
   "id": "1f78277e-21ed-4ea7-b8c9-ffa0aa6f531d",
   "metadata": {},
   "outputs": [
    {
     "data": {
      "text/plain": [
       "<xml.etree.ElementTree.ElementTree at 0x1b38cecb6a0>"
      ]
     },
     "execution_count": 14,
     "metadata": {},
     "output_type": "execute_result"
    }
   ],
   "source": [
    "cols = [[\"Pclass\", \"Sex\", \"Age\", \"Survived\"]]\n",
    "drd_objects = dmn.create_node_objects(cols)\n",
    "decision_nodes = dmn.create_dependencies(cols, drd_objects)\n",
    "rules = rule_c45.make_c45_rules([0, 1, 2], c45.traverse_c45(predictor))\n",
    "\n",
    "decision_nodes[0].rules = rules\n",
    "dmn.create_xml(drd_objects, decision_nodes)"
   ]
  },
  {
   "cell_type": "code",
   "execution_count": 15,
   "id": "bright-auditor",
   "metadata": {},
   "outputs": [
    {
     "data": {
      "text/plain": [
       "array([1, 1, 1], dtype=int64)"
      ]
     },
     "execution_count": 15,
     "metadata": {},
     "output_type": "execute_result"
    }
   ],
   "source": [
    "clf.predict([[1, 1, 20], [2, 1, 20], [3, 1, 5]])  # 1 == female"
   ]
  },
  {
   "cell_type": "code",
   "execution_count": 16,
   "id": "skilled-drink",
   "metadata": {},
   "outputs": [
    {
     "data": {
      "text/plain": [
       "array([1, 1, 1], dtype=int64)"
      ]
     },
     "execution_count": 16,
     "metadata": {},
     "output_type": "execute_result"
    }
   ],
   "source": [
    "predictor.predict(np.array([[1, 1, 20], [2, 1, 20], [3, 1, 5]], dtype=int))  # 1 == female"
   ]
  },
  {
   "cell_type": "markdown",
   "id": "competitive-merchandise",
   "metadata": {},
   "source": [
    "Second of all, it appears that adult men, no matter the passenger class, do not survive. Male children do appear to survive."
   ]
  },
  {
   "cell_type": "code",
   "execution_count": 17,
   "id": "weird-motorcycle",
   "metadata": {},
   "outputs": [
    {
     "data": {
      "text/plain": [
       "array([0, 1, 1], dtype=int64)"
      ]
     },
     "execution_count": 17,
     "metadata": {},
     "output_type": "execute_result"
    }
   ],
   "source": [
    "predictor.predict(np.array([[1, 0, 20], [2, 0, 10], [3, 0, 3]], dtype=int))  # 0 == female"
   ]
  },
  {
   "cell_type": "code",
   "execution_count": 18,
   "id": "provincial-throat",
   "metadata": {},
   "outputs": [
    {
     "data": {
      "text/plain": [
       "array([0, 0, 0], dtype=int64)"
      ]
     },
     "execution_count": 18,
     "metadata": {},
     "output_type": "execute_result"
    }
   ],
   "source": [
    "clf.predict([[1, 0, 20], [2, 0, 20], [3, 0, 20]])  # 0 == male"
   ]
  }
 ],
 "metadata": {
  "interpreter": {
   "hash": "6d471539d7971923c4af8adf93a731e28fca6f4fa6d5fc381f8b1e637eb81347"
  },
  "kernelspec": {
   "display_name": "Python 3.8.7 64-bit ('venv': venv)",
   "name": "python3"
  },
  "language_info": {
   "codemirror_mode": {
    "name": "ipython",
    "version": 3
   },
   "file_extension": ".py",
   "mimetype": "text/x-python",
   "name": "python",
   "nbconvert_exporter": "python",
   "pygments_lexer": "ipython3",
   "version": "3.8.7"
  }
 },
 "nbformat": 4,
 "nbformat_minor": 5
}
